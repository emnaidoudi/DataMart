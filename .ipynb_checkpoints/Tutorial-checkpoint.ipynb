{
 "cells": [
  {
   "cell_type": "code",
   "execution_count": 1,
   "metadata": {},
   "outputs": [],
   "source": [
    "import os\n",
    "\n",
    "from pyspark import SparkConf, SparkContext\n",
    "from pyspark.sql import SQLContext"
   ]
  },
  {
   "cell_type": "code",
   "execution_count": 2,
   "metadata": {},
   "outputs": [],
   "source": [
    "sc = SparkContext()\n",
    "sqlContext = SQLContext(sc)"
   ]
  },
  {
   "cell_type": "code",
   "execution_count": 3,
   "metadata": {},
   "outputs": [],
   "source": [
    "from pyspark.sql import Row\n",
    "l = [('Ankit',25),('Jalfaizy',22),('saurabh',20),('Bala',26)]\n",
    "rdd = sc.parallelize(l)\n",
    "people = rdd.map(lambda x: Row(name=x[0], age=int(x[1])))\n",
    "schemaPeople = sqlContext.createDataFrame(people)"
   ]
  },
  {
   "cell_type": "code",
   "execution_count": 4,
   "metadata": {},
   "outputs": [],
   "source": [
    "import sys"
   ]
  },
  {
   "cell_type": "code",
   "execution_count": 5,
   "metadata": {},
   "outputs": [
    {
     "data": {
      "text/plain": [
       "'2.7.17 (default, Nov  7 2019, 10:07:09) \\n[GCC 7.4.0]'"
      ]
     },
     "execution_count": 5,
     "metadata": {},
     "output_type": "execute_result"
    }
   ],
   "source": [
    "sys.version"
   ]
  },
  {
   "cell_type": "code",
   "execution_count": 6,
   "metadata": {
    "scrolled": true
   },
   "outputs": [
    {
     "data": {
      "text/plain": [
       "['',\n",
       " u'/tmp/spark-aaa56139-6f8d-48c9-abcc-e6bb210dc6ae/userFiles-f0170fe2-517c-42e4-b65e-58fb239b24db',\n",
       " '/home/emna/PycharmProjects/SparkProjects/Learning/venv/python2/lib/python2.7',\n",
       " '/home/emna/PycharmProjects/SparkProjects/Learning/venv/python2/lib/python2.7/plat-x86_64-linux-gnu',\n",
       " '/home/emna/PycharmProjects/SparkProjects/Learning/venv/python2/lib/python2.7/lib-tk',\n",
       " '/home/emna/PycharmProjects/SparkProjects/Learning/venv/python2/lib/python2.7/lib-old',\n",
       " '/home/emna/PycharmProjects/SparkProjects/Learning/venv/python2/lib/python2.7/lib-dynload',\n",
       " '/usr/lib/python2.7',\n",
       " '/usr/lib/python2.7/plat-x86_64-linux-gnu',\n",
       " '/usr/lib/python2.7/lib-tk',\n",
       " '/home/emna/PycharmProjects/SparkProjects/Learning/venv/python2/local/lib/python2.7/site-packages',\n",
       " '/home/emna/PycharmProjects/SparkProjects/Learning/venv/python2/lib/python2.7/site-packages',\n",
       " '/usr/local/lib/python2.7/site-packages',\n",
       " '/usr/local/lib/python2.7/dist-packages',\n",
       " '/usr/lib/python2.7/dist-packages',\n",
       " '/usr/lib/python2.7/dist-packages/IPython/extensions',\n",
       " '/home/emna/.ipython']"
      ]
     },
     "execution_count": 6,
     "metadata": {},
     "output_type": "execute_result"
    }
   ],
   "source": [
    "sys.path"
   ]
  },
  {
   "cell_type": "code",
   "execution_count": null,
   "metadata": {},
   "outputs": [],
   "source": []
  }
 ],
 "metadata": {
  "kernelspec": {
   "display_name": "python2",
   "language": "python",
   "name": "python2"
  },
  "language_info": {
   "codemirror_mode": {
    "name": "ipython",
    "version": 2
   },
   "file_extension": ".py",
   "mimetype": "text/x-python",
   "name": "python",
   "nbconvert_exporter": "python",
   "pygments_lexer": "ipython2",
   "version": "2.7.17"
  }
 },
 "nbformat": 4,
 "nbformat_minor": 4
}
